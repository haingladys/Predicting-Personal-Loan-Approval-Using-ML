{
  "cells": [
    {
      "cell_type": "code",
      "execution_count": 3,
      "metadata": {
        "id": "Y1bzCcN7XSNn"
      },
      "outputs": [],
      "source": [
        "import pandas as pd\n",
        "import numpy as np\n",
        "import pickle\n",
        "import matplotlib.pyplot as plt\n",
        "%matplotlib inline\n",
        "import seaborn as sns\n",
        "import sklearn\n",
        "from sklearn.tree import DecisionTreeClassifier\n",
        "from sklearn.ensemble import GradientBoostingClassifier,RandomForestClassifier\n",
        "from sklearn.neighbors import KNeighborsClassifier\n",
        "from sklearn.model_selection import RandomizedSearchCV\n",
        "import imblearn\n",
        "from sklearn.model_selection import train_test_split\n",
        "from sklearn.preprocessing import StandardScaler\n",
        "from sklearn.metrics import accuracy_score,classification_report,confusion_matrix,f1_score"
      ]
    },
    {
      "cell_type": "code",
      "execution_count": 4,
      "metadata": {
        "colab": {
          "base_uri": "https://localhost:8080/",
          "height": 505
        },
        "id": "KO945cfbog_y",
        "outputId": "ade58eb2-d222-4ee6-c9df-4c8cb7816251"
      },
      "outputs": [
        {
          "output_type": "execute_result",
          "data": {
            "text/plain": [
              "      Loan_ID  Gender Married Dependents     Education Self_Employed  \\\n",
              "0    LP001002    Male      No          0      Graduate            No   \n",
              "1    LP001003    Male     Yes          1      Graduate            No   \n",
              "2    LP001005    Male     Yes          0      Graduate           Yes   \n",
              "3    LP001006    Male     Yes          0  Not Graduate            No   \n",
              "4    LP001008    Male      No          0      Graduate            No   \n",
              "..        ...     ...     ...        ...           ...           ...   \n",
              "609  LP002978  Female      No          0      Graduate            No   \n",
              "610  LP002979    Male     Yes         3+      Graduate            No   \n",
              "611  LP002983    Male     Yes          1      Graduate            No   \n",
              "612  LP002984    Male     Yes          2      Graduate            No   \n",
              "613  LP002990  Female      No          0      Graduate           Yes   \n",
              "\n",
              "     ApplicantIncome  CoapplicantIncome  LoanAmount  Loan_Amount_Term  \\\n",
              "0               5849                0.0         NaN             360.0   \n",
              "1               4583             1508.0       128.0             360.0   \n",
              "2               3000                0.0        66.0             360.0   \n",
              "3               2583             2358.0       120.0             360.0   \n",
              "4               6000                0.0       141.0             360.0   \n",
              "..               ...                ...         ...               ...   \n",
              "609             2900                0.0        71.0             360.0   \n",
              "610             4106                0.0        40.0             180.0   \n",
              "611             8072              240.0       253.0             360.0   \n",
              "612             7583                0.0       187.0             360.0   \n",
              "613             4583                0.0       133.0             360.0   \n",
              "\n",
              "     Credit_History Property_Area Loan_Status  \n",
              "0               1.0         Urban           Y  \n",
              "1               1.0         Rural           N  \n",
              "2               1.0         Urban           Y  \n",
              "3               1.0         Urban           Y  \n",
              "4               1.0         Urban           Y  \n",
              "..              ...           ...         ...  \n",
              "609             1.0         Rural           Y  \n",
              "610             1.0         Rural           Y  \n",
              "611             1.0         Urban           Y  \n",
              "612             1.0         Urban           Y  \n",
              "613             0.0     Semiurban           N  \n",
              "\n",
              "[614 rows x 13 columns]"
            ],
            "text/html": [
              "\n",
              "  <div id=\"df-49ea47e3-1b15-4c64-b12b-d4d2029e47eb\">\n",
              "    <div class=\"colab-df-container\">\n",
              "      <div>\n",
              "<style scoped>\n",
              "    .dataframe tbody tr th:only-of-type {\n",
              "        vertical-align: middle;\n",
              "    }\n",
              "\n",
              "    .dataframe tbody tr th {\n",
              "        vertical-align: top;\n",
              "    }\n",
              "\n",
              "    .dataframe thead th {\n",
              "        text-align: right;\n",
              "    }\n",
              "</style>\n",
              "<table border=\"1\" class=\"dataframe\">\n",
              "  <thead>\n",
              "    <tr style=\"text-align: right;\">\n",
              "      <th></th>\n",
              "      <th>Loan_ID</th>\n",
              "      <th>Gender</th>\n",
              "      <th>Married</th>\n",
              "      <th>Dependents</th>\n",
              "      <th>Education</th>\n",
              "      <th>Self_Employed</th>\n",
              "      <th>ApplicantIncome</th>\n",
              "      <th>CoapplicantIncome</th>\n",
              "      <th>LoanAmount</th>\n",
              "      <th>Loan_Amount_Term</th>\n",
              "      <th>Credit_History</th>\n",
              "      <th>Property_Area</th>\n",
              "      <th>Loan_Status</th>\n",
              "    </tr>\n",
              "  </thead>\n",
              "  <tbody>\n",
              "    <tr>\n",
              "      <th>0</th>\n",
              "      <td>LP001002</td>\n",
              "      <td>Male</td>\n",
              "      <td>No</td>\n",
              "      <td>0</td>\n",
              "      <td>Graduate</td>\n",
              "      <td>No</td>\n",
              "      <td>5849</td>\n",
              "      <td>0.0</td>\n",
              "      <td>NaN</td>\n",
              "      <td>360.0</td>\n",
              "      <td>1.0</td>\n",
              "      <td>Urban</td>\n",
              "      <td>Y</td>\n",
              "    </tr>\n",
              "    <tr>\n",
              "      <th>1</th>\n",
              "      <td>LP001003</td>\n",
              "      <td>Male</td>\n",
              "      <td>Yes</td>\n",
              "      <td>1</td>\n",
              "      <td>Graduate</td>\n",
              "      <td>No</td>\n",
              "      <td>4583</td>\n",
              "      <td>1508.0</td>\n",
              "      <td>128.0</td>\n",
              "      <td>360.0</td>\n",
              "      <td>1.0</td>\n",
              "      <td>Rural</td>\n",
              "      <td>N</td>\n",
              "    </tr>\n",
              "    <tr>\n",
              "      <th>2</th>\n",
              "      <td>LP001005</td>\n",
              "      <td>Male</td>\n",
              "      <td>Yes</td>\n",
              "      <td>0</td>\n",
              "      <td>Graduate</td>\n",
              "      <td>Yes</td>\n",
              "      <td>3000</td>\n",
              "      <td>0.0</td>\n",
              "      <td>66.0</td>\n",
              "      <td>360.0</td>\n",
              "      <td>1.0</td>\n",
              "      <td>Urban</td>\n",
              "      <td>Y</td>\n",
              "    </tr>\n",
              "    <tr>\n",
              "      <th>3</th>\n",
              "      <td>LP001006</td>\n",
              "      <td>Male</td>\n",
              "      <td>Yes</td>\n",
              "      <td>0</td>\n",
              "      <td>Not Graduate</td>\n",
              "      <td>No</td>\n",
              "      <td>2583</td>\n",
              "      <td>2358.0</td>\n",
              "      <td>120.0</td>\n",
              "      <td>360.0</td>\n",
              "      <td>1.0</td>\n",
              "      <td>Urban</td>\n",
              "      <td>Y</td>\n",
              "    </tr>\n",
              "    <tr>\n",
              "      <th>4</th>\n",
              "      <td>LP001008</td>\n",
              "      <td>Male</td>\n",
              "      <td>No</td>\n",
              "      <td>0</td>\n",
              "      <td>Graduate</td>\n",
              "      <td>No</td>\n",
              "      <td>6000</td>\n",
              "      <td>0.0</td>\n",
              "      <td>141.0</td>\n",
              "      <td>360.0</td>\n",
              "      <td>1.0</td>\n",
              "      <td>Urban</td>\n",
              "      <td>Y</td>\n",
              "    </tr>\n",
              "    <tr>\n",
              "      <th>...</th>\n",
              "      <td>...</td>\n",
              "      <td>...</td>\n",
              "      <td>...</td>\n",
              "      <td>...</td>\n",
              "      <td>...</td>\n",
              "      <td>...</td>\n",
              "      <td>...</td>\n",
              "      <td>...</td>\n",
              "      <td>...</td>\n",
              "      <td>...</td>\n",
              "      <td>...</td>\n",
              "      <td>...</td>\n",
              "      <td>...</td>\n",
              "    </tr>\n",
              "    <tr>\n",
              "      <th>609</th>\n",
              "      <td>LP002978</td>\n",
              "      <td>Female</td>\n",
              "      <td>No</td>\n",
              "      <td>0</td>\n",
              "      <td>Graduate</td>\n",
              "      <td>No</td>\n",
              "      <td>2900</td>\n",
              "      <td>0.0</td>\n",
              "      <td>71.0</td>\n",
              "      <td>360.0</td>\n",
              "      <td>1.0</td>\n",
              "      <td>Rural</td>\n",
              "      <td>Y</td>\n",
              "    </tr>\n",
              "    <tr>\n",
              "      <th>610</th>\n",
              "      <td>LP002979</td>\n",
              "      <td>Male</td>\n",
              "      <td>Yes</td>\n",
              "      <td>3+</td>\n",
              "      <td>Graduate</td>\n",
              "      <td>No</td>\n",
              "      <td>4106</td>\n",
              "      <td>0.0</td>\n",
              "      <td>40.0</td>\n",
              "      <td>180.0</td>\n",
              "      <td>1.0</td>\n",
              "      <td>Rural</td>\n",
              "      <td>Y</td>\n",
              "    </tr>\n",
              "    <tr>\n",
              "      <th>611</th>\n",
              "      <td>LP002983</td>\n",
              "      <td>Male</td>\n",
              "      <td>Yes</td>\n",
              "      <td>1</td>\n",
              "      <td>Graduate</td>\n",
              "      <td>No</td>\n",
              "      <td>8072</td>\n",
              "      <td>240.0</td>\n",
              "      <td>253.0</td>\n",
              "      <td>360.0</td>\n",
              "      <td>1.0</td>\n",
              "      <td>Urban</td>\n",
              "      <td>Y</td>\n",
              "    </tr>\n",
              "    <tr>\n",
              "      <th>612</th>\n",
              "      <td>LP002984</td>\n",
              "      <td>Male</td>\n",
              "      <td>Yes</td>\n",
              "      <td>2</td>\n",
              "      <td>Graduate</td>\n",
              "      <td>No</td>\n",
              "      <td>7583</td>\n",
              "      <td>0.0</td>\n",
              "      <td>187.0</td>\n",
              "      <td>360.0</td>\n",
              "      <td>1.0</td>\n",
              "      <td>Urban</td>\n",
              "      <td>Y</td>\n",
              "    </tr>\n",
              "    <tr>\n",
              "      <th>613</th>\n",
              "      <td>LP002990</td>\n",
              "      <td>Female</td>\n",
              "      <td>No</td>\n",
              "      <td>0</td>\n",
              "      <td>Graduate</td>\n",
              "      <td>Yes</td>\n",
              "      <td>4583</td>\n",
              "      <td>0.0</td>\n",
              "      <td>133.0</td>\n",
              "      <td>360.0</td>\n",
              "      <td>0.0</td>\n",
              "      <td>Semiurban</td>\n",
              "      <td>N</td>\n",
              "    </tr>\n",
              "  </tbody>\n",
              "</table>\n",
              "<p>614 rows × 13 columns</p>\n",
              "</div>\n",
              "      <button class=\"colab-df-convert\" onclick=\"convertToInteractive('df-49ea47e3-1b15-4c64-b12b-d4d2029e47eb')\"\n",
              "              title=\"Convert this dataframe to an interactive table.\"\n",
              "              style=\"display:none;\">\n",
              "        \n",
              "  <svg xmlns=\"http://www.w3.org/2000/svg\" height=\"24px\"viewBox=\"0 0 24 24\"\n",
              "       width=\"24px\">\n",
              "    <path d=\"M0 0h24v24H0V0z\" fill=\"none\"/>\n",
              "    <path d=\"M18.56 5.44l.94 2.06.94-2.06 2.06-.94-2.06-.94-.94-2.06-.94 2.06-2.06.94zm-11 1L8.5 8.5l.94-2.06 2.06-.94-2.06-.94L8.5 2.5l-.94 2.06-2.06.94zm10 10l.94 2.06.94-2.06 2.06-.94-2.06-.94-.94-2.06-.94 2.06-2.06.94z\"/><path d=\"M17.41 7.96l-1.37-1.37c-.4-.4-.92-.59-1.43-.59-.52 0-1.04.2-1.43.59L10.3 9.45l-7.72 7.72c-.78.78-.78 2.05 0 2.83L4 21.41c.39.39.9.59 1.41.59.51 0 1.02-.2 1.41-.59l7.78-7.78 2.81-2.81c.8-.78.8-2.07 0-2.86zM5.41 20L4 18.59l7.72-7.72 1.47 1.35L5.41 20z\"/>\n",
              "  </svg>\n",
              "      </button>\n",
              "      \n",
              "  <style>\n",
              "    .colab-df-container {\n",
              "      display:flex;\n",
              "      flex-wrap:wrap;\n",
              "      gap: 12px;\n",
              "    }\n",
              "\n",
              "    .colab-df-convert {\n",
              "      background-color: #E8F0FE;\n",
              "      border: none;\n",
              "      border-radius: 50%;\n",
              "      cursor: pointer;\n",
              "      display: none;\n",
              "      fill: #1967D2;\n",
              "      height: 32px;\n",
              "      padding: 0 0 0 0;\n",
              "      width: 32px;\n",
              "    }\n",
              "\n",
              "    .colab-df-convert:hover {\n",
              "      background-color: #E2EBFA;\n",
              "      box-shadow: 0px 1px 2px rgba(60, 64, 67, 0.3), 0px 1px 3px 1px rgba(60, 64, 67, 0.15);\n",
              "      fill: #174EA6;\n",
              "    }\n",
              "\n",
              "    [theme=dark] .colab-df-convert {\n",
              "      background-color: #3B4455;\n",
              "      fill: #D2E3FC;\n",
              "    }\n",
              "\n",
              "    [theme=dark] .colab-df-convert:hover {\n",
              "      background-color: #434B5C;\n",
              "      box-shadow: 0px 1px 3px 1px rgba(0, 0, 0, 0.15);\n",
              "      filter: drop-shadow(0px 1px 2px rgba(0, 0, 0, 0.3));\n",
              "      fill: #FFFFFF;\n",
              "    }\n",
              "  </style>\n",
              "\n",
              "      <script>\n",
              "        const buttonEl =\n",
              "          document.querySelector('#df-49ea47e3-1b15-4c64-b12b-d4d2029e47eb button.colab-df-convert');\n",
              "        buttonEl.style.display =\n",
              "          google.colab.kernel.accessAllowed ? 'block' : 'none';\n",
              "\n",
              "        async function convertToInteractive(key) {\n",
              "          const element = document.querySelector('#df-49ea47e3-1b15-4c64-b12b-d4d2029e47eb');\n",
              "          const dataTable =\n",
              "            await google.colab.kernel.invokeFunction('convertToInteractive',\n",
              "                                                     [key], {});\n",
              "          if (!dataTable) return;\n",
              "\n",
              "          const docLinkHtml = 'Like what you see? Visit the ' +\n",
              "            '<a target=\"_blank\" href=https://colab.research.google.com/notebooks/data_table.ipynb>data table notebook</a>'\n",
              "            + ' to learn more about interactive tables.';\n",
              "          element.innerHTML = '';\n",
              "          dataTable['output_type'] = 'display_data';\n",
              "          await google.colab.output.renderOutput(dataTable, element);\n",
              "          const docLink = document.createElement('div');\n",
              "          docLink.innerHTML = docLinkHtml;\n",
              "          element.appendChild(docLink);\n",
              "        }\n",
              "      </script>\n",
              "    </div>\n",
              "  </div>\n",
              "  "
            ]
          },
          "metadata": {},
          "execution_count": 4
        }
      ],
      "source": [
        "#importing the dataset \n",
        "data=pd.read_csv('/content/loan_prediction.csv')\n",
        "data"
      ]
    },
    {
      "cell_type": "code",
      "execution_count": 5,
      "metadata": {
        "colab": {
          "base_uri": "https://localhost:8080/"
        },
        "id": "j7kMAxiihg4c",
        "outputId": "a32fd5a3-4c0f-45d0-f5be-4e75f8e065f4"
      },
      "outputs": [
        {
          "output_type": "stream",
          "name": "stdout",
          "text": [
            "<class 'pandas.core.frame.DataFrame'>\n",
            "RangeIndex: 614 entries, 0 to 613\n",
            "Data columns (total 13 columns):\n",
            " #   Column             Non-Null Count  Dtype  \n",
            "---  ------             --------------  -----  \n",
            " 0   Loan_ID            614 non-null    object \n",
            " 1   Gender             601 non-null    object \n",
            " 2   Married            611 non-null    object \n",
            " 3   Dependents         599 non-null    object \n",
            " 4   Education          614 non-null    object \n",
            " 5   Self_Employed      582 non-null    object \n",
            " 6   ApplicantIncome    614 non-null    int64  \n",
            " 7   CoapplicantIncome  614 non-null    float64\n",
            " 8   LoanAmount         592 non-null    float64\n",
            " 9   Loan_Amount_Term   600 non-null    float64\n",
            " 10  Credit_History     564 non-null    float64\n",
            " 11  Property_Area      614 non-null    object \n",
            " 12  Loan_Status        614 non-null    object \n",
            "dtypes: float64(4), int64(1), object(8)\n",
            "memory usage: 62.5+ KB\n"
          ]
        }
      ],
      "source": [
        "data.info()"
      ]
    },
    {
      "cell_type": "code",
      "execution_count": 6,
      "metadata": {
        "colab": {
          "base_uri": "https://localhost:8080/"
        },
        "id": "qqpPRMjDi_e6",
        "outputId": "44aef5ba-c431-48f7-a67a-693e1e64168a"
      },
      "outputs": [
        {
          "output_type": "execute_result",
          "data": {
            "text/plain": [
              "Loan_ID               0\n",
              "Gender               13\n",
              "Married               3\n",
              "Dependents           15\n",
              "Education             0\n",
              "Self_Employed        32\n",
              "ApplicantIncome       0\n",
              "CoapplicantIncome     0\n",
              "LoanAmount           22\n",
              "Loan_Amount_Term     14\n",
              "Credit_History       50\n",
              "Property_Area         0\n",
              "Loan_Status           0\n",
              "dtype: int64"
            ]
          },
          "metadata": {},
          "execution_count": 6
        }
      ],
      "source": [
        "#finding the sum of null values in each column\n",
        "data.isnull().sum()"
      ]
    },
    {
      "cell_type": "code",
      "execution_count": 7,
      "metadata": {
        "colab": {
          "base_uri": "https://localhost:8080/"
        },
        "id": "Ufu-c8KbQE7d",
        "outputId": "ab5e21ef-5793-4fe4-a789-e00d1bc6374f"
      },
      "outputs": [
        {
          "output_type": "stream",
          "name": "stderr",
          "text": [
            "<ipython-input-7-d5652316fc76>:3: FutureWarning: The default value of regex will change from True to False in a future version. In addition, single character regular expressions will *not* be treated as literal strings when regex=True.\n",
            "  data['Dependents']=data['Dependents'].str.replace('+','')\n"
          ]
        }
      ],
      "source": [
        "data['Gender']=data['Gender'].fillna(data['Gender'].mode()[0]) \n",
        "data['Married']=data['Married'].fillna(data['Married'].mode()[0])\n",
        "data['Dependents']=data['Dependents'].str.replace('+','')\n",
        "data['Dependents']=data['Dependents'].fillna(data['Dependents'].mode()[0])\n",
        "data['Self_Employed']=data['Self_Employed'].fillna(data['Self_Employed'].mode()[0])\n",
        "data['LoanAmount']=data['LoanAmount'].fillna(data['LoanAmount'].mode()[0])\n",
        "data['Loan_Amount_Term']=data['Loan_Amount_Term'].fillna(data['Loan_Amount_Term'].mode()[0])\n",
        "data['Credit_History']=data['Credit_History'].fillna(data['Credit_History'].mode()[0])"
      ]
    },
    {
      "cell_type": "code",
      "execution_count": 8,
      "metadata": {
        "colab": {
          "base_uri": "https://localhost:8080/"
        },
        "id": "P0TccJ-d5dut",
        "outputId": "15c84bd6-f2b2-40ab-c540-86e067724d79"
      },
      "outputs": [
        {
          "output_type": "stream",
          "name": "stdout",
          "text": [
            "<class 'pandas.core.frame.DataFrame'>\n",
            "RangeIndex: 614 entries, 0 to 613\n",
            "Data columns (total 13 columns):\n",
            " #   Column             Non-Null Count  Dtype  \n",
            "---  ------             --------------  -----  \n",
            " 0   Loan_ID            614 non-null    object \n",
            " 1   Gender             614 non-null    object \n",
            " 2   Married            614 non-null    object \n",
            " 3   Dependents         614 non-null    object \n",
            " 4   Education          614 non-null    object \n",
            " 5   Self_Employed      614 non-null    object \n",
            " 6   ApplicantIncome    614 non-null    int64  \n",
            " 7   CoapplicantIncome  614 non-null    float64\n",
            " 8   LoanAmount         614 non-null    float64\n",
            " 9   Loan_Amount_Term   614 non-null    float64\n",
            " 10  Credit_History     614 non-null    float64\n",
            " 11  Property_Area      614 non-null    object \n",
            " 12  Loan_Status        614 non-null    object \n",
            "dtypes: float64(4), int64(1), object(8)\n",
            "memory usage: 62.5+ KB\n"
          ]
        }
      ],
      "source": [
        "data.info()"
      ]
    },
    {
      "cell_type": "code",
      "execution_count": 9,
      "metadata": {
        "colab": {
          "base_uri": "https://localhost:8080/"
        },
        "id": "o4TFG2SEwxek",
        "outputId": "02f34fd9-8670-4e7f-e2c7-eb9686b3cefc"
      },
      "outputs": [
        {
          "output_type": "stream",
          "name": "stdout",
          "text": [
            "0    502\n",
            "1    112\n",
            "Name: Gender, dtype: int64 \n",
            " 1    401\n",
            "0    213\n",
            "Name: Married, dtype: int64 \n",
            " 0    532\n",
            "1     82\n",
            "Name: Self_Employed, dtype: int64 \n",
            " 1    480\n",
            "0    134\n",
            "Name: Education, dtype: int64 \n",
            " 1    233\n",
            "0    202\n",
            "2    179\n",
            "Name: Property_Area, dtype: int64 \n",
            " 1    422\n",
            "0    192\n",
            "Name: Loan_Status, dtype: int64\n"
          ]
        }
      ],
      "source": [
        "#  Loan_ID  Dependents Property_Area  Loan_Status\n",
        "data=data.replace(['Male'],[0])\n",
        "data=data.replace(['Female'],[1])\n",
        "data=data.replace(['No'],[0])\n",
        "data=data.replace(['Yes'],[1])\n",
        "data=data.replace(['Graduate'],[1])\n",
        "data=data.replace(['Not Graduate'],[0])\n",
        "data=data.replace(['Urban'],[0])\n",
        "data=data.replace(['Semiurban'],[1])\n",
        "data=data.replace(['Rural'],[2])\n",
        "data=data.replace(['Y'],[1])\n",
        "data=data.replace(['N'],[0])\n",
        "print(data['Gender'].value_counts(),'\\n',\n",
        "data['Married'].value_counts(),'\\n',\n",
        "data['Self_Employed'].value_counts(),'\\n',\n",
        "data['Education'].value_counts(),'\\n',\n",
        "data['Property_Area'].value_counts(),'\\n',\n",
        "data['Loan_Status'].value_counts())"
      ]
    },
    {
      "cell_type": "code",
      "execution_count": 10,
      "metadata": {
        "id": "ZzRlyix79Li7"
      },
      "outputs": [],
      "source": [
        "data.drop('Loan_ID',axis=1,inplace=True)"
      ]
    },
    {
      "cell_type": "code",
      "execution_count": 11,
      "metadata": {
        "id": "B6meSTWLh2xY"
      },
      "outputs": [],
      "source": [
        "data['Gender']=data['Gender'].astype('int64')\n",
        "data['Married']=data['Married'].astype('int64')\n",
        "data['Dependents']=data['Dependents'].astype('int64')\n",
        "data['Self_Employed']=data['Self_Employed'].astype('int64')\n",
        "data['Property_Area']=data['Property_Area'].astype('int64')"
      ]
    },
    {
      "cell_type": "code",
      "execution_count": 12,
      "metadata": {
        "id": "VSyLgFNklAPA"
      },
      "outputs": [],
      "source": [
        "data['ApplicantIncome']=data['ApplicantIncome'].astype('int64')\n",
        "data['CoapplicantIncome']=data['CoapplicantIncome'].astype('int64')\n",
        "data['LoanAmount']=data['LoanAmount'].astype('int64')\n",
        "data['Loan_Amount_Term']=data['Loan_Amount_Term'].astype('int64')\n",
        "data['Credit_History']=data['Credit_History'].astype('int64')"
      ]
    },
    {
      "cell_type": "code",
      "execution_count": 13,
      "metadata": {
        "id": "d9cXeaBF0-H6"
      },
      "outputs": [],
      "source": [
        "from imblearn.combine import SMOTETomek\n",
        "smote=SMOTETomek(sampling_strategy=0.90)"
      ]
    },
    {
      "cell_type": "code",
      "execution_count": 14,
      "metadata": {
        "id": "thxIvTLVr-mh"
      },
      "outputs": [],
      "source": [
        "#dividing the dataset into dependent and independent y and x respectively\n",
        "x=data.drop(columns=['Loan_Status'],axis=1)\n",
        "y=data['Loan_Status']"
      ]
    },
    {
      "cell_type": "code",
      "execution_count": 15,
      "metadata": {
        "id": "FrF9LkSU0tD7"
      },
      "outputs": [],
      "source": [
        "x_bal,y_bal=smote.fit_resample(x,y)"
      ]
    },
    {
      "cell_type": "code",
      "execution_count": 16,
      "metadata": {
        "colab": {
          "base_uri": "https://localhost:8080/"
        },
        "id": "UM0Q3B7lrzu4",
        "outputId": "5e924db5-34dc-4b47-92e1-03c434c7888b"
      },
      "outputs": [
        {
          "output_type": "stream",
          "name": "stdout",
          "text": [
            "1    422\n",
            "0    192\n",
            "Name: Loan_Status, dtype: int64\n",
            "1    353\n",
            "0    310\n",
            "Name: Loan_Status, dtype: int64\n"
          ]
        }
      ],
      "source": [
        "print(y.value_counts())\n",
        "print(y_bal.value_counts())"
      ]
    },
    {
      "cell_type": "markdown",
      "metadata": {
        "id": "h0ekxrMbCWz4"
      },
      "source": [
        "Descriptive statistical"
      ]
    },
    {
      "cell_type": "code",
      "execution_count": 17,
      "metadata": {
        "colab": {
          "base_uri": "https://localhost:8080/",
          "height": 364
        },
        "id": "gQCYN3B9CL-i",
        "outputId": "06f4a0e5-0f3b-4bfe-cfa8-23ec3f5150e7"
      },
      "outputs": [
        {
          "output_type": "execute_result",
          "data": {
            "text/plain": [
              "           Gender     Married  Dependents   Education  Self_Employed  \\\n",
              "count  614.000000  614.000000  614.000000  614.000000     614.000000   \n",
              "mean     0.182410    0.653094    0.744300    0.781759       0.133550   \n",
              "std      0.386497    0.476373    1.009623    0.413389       0.340446   \n",
              "min      0.000000    0.000000    0.000000    0.000000       0.000000   \n",
              "25%      0.000000    0.000000    0.000000    1.000000       0.000000   \n",
              "50%      0.000000    1.000000    0.000000    1.000000       0.000000   \n",
              "75%      0.000000    1.000000    1.000000    1.000000       0.000000   \n",
              "max      1.000000    1.000000    3.000000    1.000000       1.000000   \n",
              "\n",
              "       ApplicantIncome  CoapplicantIncome  LoanAmount  Loan_Amount_Term  \\\n",
              "count       614.000000          614.00000  614.000000        614.000000   \n",
              "mean       5403.459283         1621.24430  145.465798        342.410423   \n",
              "std        6109.041673         2926.24876   84.180967         64.428629   \n",
              "min         150.000000            0.00000    9.000000         12.000000   \n",
              "25%        2877.500000            0.00000  100.250000        360.000000   \n",
              "50%        3812.500000         1188.50000  125.000000        360.000000   \n",
              "75%        5795.000000         2297.25000  164.750000        360.000000   \n",
              "max       81000.000000        41667.00000  700.000000        480.000000   \n",
              "\n",
              "       Credit_History  Property_Area  Loan_Status  \n",
              "count      614.000000     614.000000   614.000000  \n",
              "mean         0.855049       0.962541     0.687296  \n",
              "std          0.352339       0.787482     0.463973  \n",
              "min          0.000000       0.000000     0.000000  \n",
              "25%          1.000000       0.000000     0.000000  \n",
              "50%          1.000000       1.000000     1.000000  \n",
              "75%          1.000000       2.000000     1.000000  \n",
              "max          1.000000       2.000000     1.000000  "
            ],
            "text/html": [
              "\n",
              "  <div id=\"df-a3ebd4d6-b6f3-4a7e-a413-dba6154e1b05\">\n",
              "    <div class=\"colab-df-container\">\n",
              "      <div>\n",
              "<style scoped>\n",
              "    .dataframe tbody tr th:only-of-type {\n",
              "        vertical-align: middle;\n",
              "    }\n",
              "\n",
              "    .dataframe tbody tr th {\n",
              "        vertical-align: top;\n",
              "    }\n",
              "\n",
              "    .dataframe thead th {\n",
              "        text-align: right;\n",
              "    }\n",
              "</style>\n",
              "<table border=\"1\" class=\"dataframe\">\n",
              "  <thead>\n",
              "    <tr style=\"text-align: right;\">\n",
              "      <th></th>\n",
              "      <th>Gender</th>\n",
              "      <th>Married</th>\n",
              "      <th>Dependents</th>\n",
              "      <th>Education</th>\n",
              "      <th>Self_Employed</th>\n",
              "      <th>ApplicantIncome</th>\n",
              "      <th>CoapplicantIncome</th>\n",
              "      <th>LoanAmount</th>\n",
              "      <th>Loan_Amount_Term</th>\n",
              "      <th>Credit_History</th>\n",
              "      <th>Property_Area</th>\n",
              "      <th>Loan_Status</th>\n",
              "    </tr>\n",
              "  </thead>\n",
              "  <tbody>\n",
              "    <tr>\n",
              "      <th>count</th>\n",
              "      <td>614.000000</td>\n",
              "      <td>614.000000</td>\n",
              "      <td>614.000000</td>\n",
              "      <td>614.000000</td>\n",
              "      <td>614.000000</td>\n",
              "      <td>614.000000</td>\n",
              "      <td>614.00000</td>\n",
              "      <td>614.000000</td>\n",
              "      <td>614.000000</td>\n",
              "      <td>614.000000</td>\n",
              "      <td>614.000000</td>\n",
              "      <td>614.000000</td>\n",
              "    </tr>\n",
              "    <tr>\n",
              "      <th>mean</th>\n",
              "      <td>0.182410</td>\n",
              "      <td>0.653094</td>\n",
              "      <td>0.744300</td>\n",
              "      <td>0.781759</td>\n",
              "      <td>0.133550</td>\n",
              "      <td>5403.459283</td>\n",
              "      <td>1621.24430</td>\n",
              "      <td>145.465798</td>\n",
              "      <td>342.410423</td>\n",
              "      <td>0.855049</td>\n",
              "      <td>0.962541</td>\n",
              "      <td>0.687296</td>\n",
              "    </tr>\n",
              "    <tr>\n",
              "      <th>std</th>\n",
              "      <td>0.386497</td>\n",
              "      <td>0.476373</td>\n",
              "      <td>1.009623</td>\n",
              "      <td>0.413389</td>\n",
              "      <td>0.340446</td>\n",
              "      <td>6109.041673</td>\n",
              "      <td>2926.24876</td>\n",
              "      <td>84.180967</td>\n",
              "      <td>64.428629</td>\n",
              "      <td>0.352339</td>\n",
              "      <td>0.787482</td>\n",
              "      <td>0.463973</td>\n",
              "    </tr>\n",
              "    <tr>\n",
              "      <th>min</th>\n",
              "      <td>0.000000</td>\n",
              "      <td>0.000000</td>\n",
              "      <td>0.000000</td>\n",
              "      <td>0.000000</td>\n",
              "      <td>0.000000</td>\n",
              "      <td>150.000000</td>\n",
              "      <td>0.00000</td>\n",
              "      <td>9.000000</td>\n",
              "      <td>12.000000</td>\n",
              "      <td>0.000000</td>\n",
              "      <td>0.000000</td>\n",
              "      <td>0.000000</td>\n",
              "    </tr>\n",
              "    <tr>\n",
              "      <th>25%</th>\n",
              "      <td>0.000000</td>\n",
              "      <td>0.000000</td>\n",
              "      <td>0.000000</td>\n",
              "      <td>1.000000</td>\n",
              "      <td>0.000000</td>\n",
              "      <td>2877.500000</td>\n",
              "      <td>0.00000</td>\n",
              "      <td>100.250000</td>\n",
              "      <td>360.000000</td>\n",
              "      <td>1.000000</td>\n",
              "      <td>0.000000</td>\n",
              "      <td>0.000000</td>\n",
              "    </tr>\n",
              "    <tr>\n",
              "      <th>50%</th>\n",
              "      <td>0.000000</td>\n",
              "      <td>1.000000</td>\n",
              "      <td>0.000000</td>\n",
              "      <td>1.000000</td>\n",
              "      <td>0.000000</td>\n",
              "      <td>3812.500000</td>\n",
              "      <td>1188.50000</td>\n",
              "      <td>125.000000</td>\n",
              "      <td>360.000000</td>\n",
              "      <td>1.000000</td>\n",
              "      <td>1.000000</td>\n",
              "      <td>1.000000</td>\n",
              "    </tr>\n",
              "    <tr>\n",
              "      <th>75%</th>\n",
              "      <td>0.000000</td>\n",
              "      <td>1.000000</td>\n",
              "      <td>1.000000</td>\n",
              "      <td>1.000000</td>\n",
              "      <td>0.000000</td>\n",
              "      <td>5795.000000</td>\n",
              "      <td>2297.25000</td>\n",
              "      <td>164.750000</td>\n",
              "      <td>360.000000</td>\n",
              "      <td>1.000000</td>\n",
              "      <td>2.000000</td>\n",
              "      <td>1.000000</td>\n",
              "    </tr>\n",
              "    <tr>\n",
              "      <th>max</th>\n",
              "      <td>1.000000</td>\n",
              "      <td>1.000000</td>\n",
              "      <td>3.000000</td>\n",
              "      <td>1.000000</td>\n",
              "      <td>1.000000</td>\n",
              "      <td>81000.000000</td>\n",
              "      <td>41667.00000</td>\n",
              "      <td>700.000000</td>\n",
              "      <td>480.000000</td>\n",
              "      <td>1.000000</td>\n",
              "      <td>2.000000</td>\n",
              "      <td>1.000000</td>\n",
              "    </tr>\n",
              "  </tbody>\n",
              "</table>\n",
              "</div>\n",
              "      <button class=\"colab-df-convert\" onclick=\"convertToInteractive('df-a3ebd4d6-b6f3-4a7e-a413-dba6154e1b05')\"\n",
              "              title=\"Convert this dataframe to an interactive table.\"\n",
              "              style=\"display:none;\">\n",
              "        \n",
              "  <svg xmlns=\"http://www.w3.org/2000/svg\" height=\"24px\"viewBox=\"0 0 24 24\"\n",
              "       width=\"24px\">\n",
              "    <path d=\"M0 0h24v24H0V0z\" fill=\"none\"/>\n",
              "    <path d=\"M18.56 5.44l.94 2.06.94-2.06 2.06-.94-2.06-.94-.94-2.06-.94 2.06-2.06.94zm-11 1L8.5 8.5l.94-2.06 2.06-.94-2.06-.94L8.5 2.5l-.94 2.06-2.06.94zm10 10l.94 2.06.94-2.06 2.06-.94-2.06-.94-.94-2.06-.94 2.06-2.06.94z\"/><path d=\"M17.41 7.96l-1.37-1.37c-.4-.4-.92-.59-1.43-.59-.52 0-1.04.2-1.43.59L10.3 9.45l-7.72 7.72c-.78.78-.78 2.05 0 2.83L4 21.41c.39.39.9.59 1.41.59.51 0 1.02-.2 1.41-.59l7.78-7.78 2.81-2.81c.8-.78.8-2.07 0-2.86zM5.41 20L4 18.59l7.72-7.72 1.47 1.35L5.41 20z\"/>\n",
              "  </svg>\n",
              "      </button>\n",
              "      \n",
              "  <style>\n",
              "    .colab-df-container {\n",
              "      display:flex;\n",
              "      flex-wrap:wrap;\n",
              "      gap: 12px;\n",
              "    }\n",
              "\n",
              "    .colab-df-convert {\n",
              "      background-color: #E8F0FE;\n",
              "      border: none;\n",
              "      border-radius: 50%;\n",
              "      cursor: pointer;\n",
              "      display: none;\n",
              "      fill: #1967D2;\n",
              "      height: 32px;\n",
              "      padding: 0 0 0 0;\n",
              "      width: 32px;\n",
              "    }\n",
              "\n",
              "    .colab-df-convert:hover {\n",
              "      background-color: #E2EBFA;\n",
              "      box-shadow: 0px 1px 2px rgba(60, 64, 67, 0.3), 0px 1px 3px 1px rgba(60, 64, 67, 0.15);\n",
              "      fill: #174EA6;\n",
              "    }\n",
              "\n",
              "    [theme=dark] .colab-df-convert {\n",
              "      background-color: #3B4455;\n",
              "      fill: #D2E3FC;\n",
              "    }\n",
              "\n",
              "    [theme=dark] .colab-df-convert:hover {\n",
              "      background-color: #434B5C;\n",
              "      box-shadow: 0px 1px 3px 1px rgba(0, 0, 0, 0.15);\n",
              "      filter: drop-shadow(0px 1px 2px rgba(0, 0, 0, 0.3));\n",
              "      fill: #FFFFFF;\n",
              "    }\n",
              "  </style>\n",
              "\n",
              "      <script>\n",
              "        const buttonEl =\n",
              "          document.querySelector('#df-a3ebd4d6-b6f3-4a7e-a413-dba6154e1b05 button.colab-df-convert');\n",
              "        buttonEl.style.display =\n",
              "          google.colab.kernel.accessAllowed ? 'block' : 'none';\n",
              "\n",
              "        async function convertToInteractive(key) {\n",
              "          const element = document.querySelector('#df-a3ebd4d6-b6f3-4a7e-a413-dba6154e1b05');\n",
              "          const dataTable =\n",
              "            await google.colab.kernel.invokeFunction('convertToInteractive',\n",
              "                                                     [key], {});\n",
              "          if (!dataTable) return;\n",
              "\n",
              "          const docLinkHtml = 'Like what you see? Visit the ' +\n",
              "            '<a target=\"_blank\" href=https://colab.research.google.com/notebooks/data_table.ipynb>data table notebook</a>'\n",
              "            + ' to learn more about interactive tables.';\n",
              "          element.innerHTML = '';\n",
              "          dataTable['output_type'] = 'display_data';\n",
              "          await google.colab.output.renderOutput(dataTable, element);\n",
              "          const docLink = document.createElement('div');\n",
              "          docLink.innerHTML = docLinkHtml;\n",
              "          element.appendChild(docLink);\n",
              "        }\n",
              "      </script>\n",
              "    </div>\n",
              "  </div>\n",
              "  "
            ]
          },
          "metadata": {},
          "execution_count": 17
        }
      ],
      "source": [
        "data.describe()"
      ]
    },
    {
      "cell_type": "markdown",
      "metadata": {
        "id": "V0AqVexvCjSP"
      },
      "source": [
        "## Univariate Analysis"
      ]
    },
    {
      "cell_type": "code",
      "execution_count": 18,
      "metadata": {
        "colab": {
          "base_uri": "https://localhost:8080/",
          "height": 1000
        },
        "id": "3LpjzmYlCt1H",
        "outputId": "f12acc43-ca68-4d87-d27c-386ad4178de9"
      },
      "outputs": [
        {
          "output_type": "stream",
          "name": "stderr",
          "text": [
            "<ipython-input-18-b806fb277601>:3: UserWarning: \n",
            "\n",
            "`distplot` is a deprecated function and will be removed in seaborn v0.14.0.\n",
            "\n",
            "Please adapt your code to use either `displot` (a figure-level function with\n",
            "similar flexibility) or `histplot` (an axes-level function for histograms).\n",
            "\n",
            "For a guide to updating your code to use the new functions, please see\n",
            "https://gist.github.com/mwaskom/de44147ed2974457ad6372750bbe5751\n",
            "\n",
            "  sns.distplot(data['ApplicantIncome'],color='r')\n"
          ]
        },
        {
          "output_type": "display_data",
          "data": {
            "text/plain": [
              "<Figure size 500x300 with 2 Axes>"
            ],
            "image/png": "[encoded data removed]"
          },
          "metadata": {}
        },
        {
          "output_type": "display_data",
          "data": {
            "text/plain": [
              "<Figure size 500x500 with 1 Axes>"
            ],
            "image/png": "[encoded data removed]"
          },
          "metadata": {}
        }
      ],
      "source": [
        "plt.figure(figsize=(5,3))\n",
        "plt.subplot(121)\n",
        "sns.distplot(data['ApplicantIncome'],color='r')\n",
        "plt.subplot(122)\n",
        "sns.displot(data['Credit_History'],color='b',kde=True)\n",
        "plt.show()"
      ]
    },
    {
      "cell_type": "markdown",
      "metadata": {
        "id": "WZFLq1N-DdxQ"
      },
      "source": [
        "## Bivariate Analysis"
      ]
    },
    {
      "cell_type": "code",
      "source": [
        "da=data.drop(['Loan_Status'],axis=1)\n",
        "plt.figure(figsize=(12,12))\n",
        "for i,j in enumerate(da):\n",
        "   plt.subplot(1,1,1)\n",
        "   sns.countplot(x=data[j],hue='Loan_Status',data=data)"
      ],
      "metadata": {
        "colab": {
          "base_uri": "https://localhost:8080/",
          "height": 1000
        },
        "id": "aPKiBuaGOYNV",
        "outputId": "dbea47ad-717b-4f3c-c30e-909aaddc025e"
      },
      "execution_count": 19,
      "outputs": [
        {
          "output_type": "display_data",
          "data": {
            "text/plain": [
              "<Figure size 1200x1200 with 1 Axes>"
            ],
            "image/png": "[encoded data removed]"
          },
          "metadata": {}
        }
      ]
    },
    {
      "cell_type": "markdown",
      "metadata": {
        "id": "zhNUyd5PSQNY"
      },
      "source": [
        " Multivariate analysis"
      ]
    },
    {
      "cell_type": "code",
      "execution_count": 20,
      "metadata": {
        "colab": {
          "base_uri": "https://localhost:8080/",
          "height": 598
        },
        "id": "1lrf6PDqSjzt",
        "outputId": "b260323b-4a66-4b25-8897-d4c6251d7886"
      },
      "outputs": [
        {
          "output_type": "stream",
          "name": "stderr",
          "text": [
            "/usr/local/lib/python3.9/dist-packages/seaborn/categorical.py:3544: UserWarning: 45.8% of the points cannot be placed; you may want to decrease the size of the markers or use stripplot.\n",
            "  warnings.warn(msg, UserWarning)\n"
          ]
        },
        {
          "output_type": "execute_result",
          "data": {
            "text/plain": [
              "<Axes: xlabel='Gender', ylabel='ApplicantIncome'>"
            ]
          },
          "metadata": {},
          "execution_count": 20
        },
        {
          "output_type": "stream",
          "name": "stderr",
          "text": [
            "/usr/local/lib/python3.9/dist-packages/seaborn/categorical.py:3544: UserWarning: 61.6% of the points cannot be placed; you may want to decrease the size of the markers or use stripplot.\n",
            "  warnings.warn(msg, UserWarning)\n",
            "/usr/local/lib/python3.9/dist-packages/seaborn/categorical.py:3544: UserWarning: 25.0% of the points cannot be placed; you may want to decrease the size of the markers or use stripplot.\n",
            "  warnings.warn(msg, UserWarning)\n"
          ]
        },
        {
          "output_type": "display_data",
          "data": {
            "text/plain": [
              "<Figure size 640x480 with 1 Axes>"
            ],
            "image/png": "[encoded data removed]"
          },
          "metadata": {}
        }
      ],
      "source": [
        "sns.swarmplot(x=data['Gender'],y=data['ApplicantIncome'],hue=data['Loan_Status'])"
      ]
    },
    {
      "cell_type": "markdown",
      "metadata": {
        "id": "KM6ttEC0UXS0"
      },
      "source": [
        " Spliting data into train and test"
      ]
    },
    {
      "cell_type": "code",
      "execution_count": 21,
      "metadata": {
        "id": "Q1VaKiLmsinp"
      },
      "outputs": [],
      "source": [
        "x=data.drop(columns=['Loan_Status'],axis=1)\n",
        "y=data['Loan_Status']\n",
        "x_train,x_test,y_train,y_test=train_test_split(x_bal,y_bal,test_size=0.33,random_state=42)"
      ]
    },
    {
      "cell_type": "markdown",
      "metadata": {
        "id": "Ovi1JWvmVnRM"
      },
      "source": [
        "# **Model Building**"
      ]
    },
    {
      "cell_type": "markdown",
      "metadata": {
        "id": "0iMJr_D4VsGT"
      },
      "source": [
        "Decision Tree Model"
      ]
    },
    {
      "cell_type": "code",
      "execution_count": 34,
      "metadata": {
        "id": "L5ElXA47VvdD"
      },
      "outputs": [],
      "source": [
        "def decisionTree(x_train,x_test,y_train,y_test):\n",
        " dt=DecisionTreeClassifier()\n",
        " x=data.drop(columns=['Loan_Status'],axis=1)\n",
        " y=data['Loan_Status']\n",
        " x_train,x_test,y_train,y_test=train_test_split(x_bal,y_bal,test_size=0.33,random_state=42)\n",
        " dt.fit(x_train,y_train)\n",
        " yPred=data.predict(x_test)\n",
        " print('***DecisionTreeClassifier***')\n",
        " print('confusion matrix')\n",
        " print(confusion_matrix(y_test,yPred))\n",
        " print('classification_report')\n",
        " print(classification_report(y_test,yPred))"
      ]
    },
    {
      "cell_type": "markdown",
      "metadata": {
        "id": "0iEGdnbtX2A1"
      },
      "source": [
        "Random Forest Model\n",
        "\n"
      ]
    },
    {
      "cell_type": "code",
      "execution_count": 24,
      "metadata": {
        "id": "twKrQzIrWXAg"
      },
      "outputs": [],
      "source": [
        "def Randomforest(x_train,x_test,y_train,y_test):\n",
        " rf=RandomForestClassifier()\n",
        " rf.fit(x_train,y_train)\n",
        " yPred=rf.predict(x_test)\n",
        " print('***RandomForestClassifier***')\n",
        " print('confusion matrix')\n",
        " print(confusion_matrix(y_test,yPred))\n",
        " print('classification_report')\n",
        " print(classification_report(y_test,yPred))"
      ]
    },
    {
      "cell_type": "markdown",
      "source": [
        "KNN"
      ],
      "metadata": {
        "id": "J6Fj_wpvYUdm"
      }
    },
    {
      "cell_type": "code",
      "execution_count": 25,
      "metadata": {
        "id": "4onr1uL6ZpMF"
      },
      "outputs": [],
      "source": [
        "def KNN(x_train,x_test,y_train,y_test):\n",
        " KNN=KNeighborsClassifier()\n",
        " KNN.fit(x_train,y_train)\n",
        " yPred=KNN.predict(x_test)\n",
        " print('***KNeighborsClassifier***')\n",
        " print('confusion matrix')\n",
        " print(confusion_matrix(y_test,yPred))\n",
        " print('classification_report')\n",
        " print(classification_report(y_test,yPred))"
      ]
    },
    {
      "cell_type": "markdown",
      "metadata": {
        "id": "keLNpaOiafTO"
      },
      "source": [
        "Xgboost model"
      ]
    },
    {
      "cell_type": "code",
      "execution_count": 36,
      "metadata": {
        "id": "9Q9cpTEVagb2"
      },
      "outputs": [],
      "source": [
        "def Xgboost(x_train,x_test,y_train,y_test):\n",
        " xg=GradientBoostingClassifier()\n",
        " xg.fit(x_train,y_train)\n",
        " yPred=xg.predict(x_test)\n",
        " print('***GradientBoostingClassifier***')\n",
        " print('confusion matrix')\n",
        " print(confusion_matrix(y_test,yPred))\n",
        " print('classification_report')\n",
        " print(classification_report(y_test,yPred))"
      ]
    },
    {
      "cell_type": "markdown",
      "metadata": {
        "id": "w79w-QpObYpH"
      },
      "source": [
        "ANN model"
      ]
    },
    {
      "cell_type": "code",
      "execution_count": 37,
      "metadata": {
        "id": "9ze_kGylbZ71"
      },
      "outputs": [],
      "source": [
        "import tensorflow\n",
        "from tensorflow import keras\n",
        "from tensorflow.keras.models import Sequential\n",
        "from tensorflow.keras.layers import Dense\n"
      ]
    },
    {
      "cell_type": "code",
      "execution_count": 38,
      "metadata": {
        "id": "fwutw_Obcz-W"
      },
      "outputs": [],
      "source": [
        "classifier=Sequential()"
      ]
    },
    {
      "cell_type": "code",
      "execution_count": 39,
      "metadata": {
        "id": "A7e31SGzc813"
      },
      "outputs": [],
      "source": [
        "classifier.add(Dense(units=100,activation='relu',input_dim=11))"
      ]
    },
    {
      "cell_type": "code",
      "execution_count": 30,
      "metadata": {
        "id": "KYkP0Oaij6dK"
      },
      "outputs": [],
      "source": [
        "classifier.add(Dense(units=50,activation='relu'))"
      ]
    },
    {
      "cell_type": "code",
      "execution_count": 40,
      "metadata": {
        "id": "9WgAKSEmj4XL"
      },
      "outputs": [],
      "source": [
        "classifier.add(Dense(units=1,activation='sigmoid'))"
      ]
    },
    {
      "cell_type": "code",
      "execution_count": 41,
      "metadata": {
        "id": "3smVFdxLj3W3"
      },
      "outputs": [],
      "source": [
        "classifier.compile(optimizer='adam',loss='binary_crossentropy',metrics=['accuracy'])"
      ]
    },
    {
      "cell_type": "code",
      "execution_count": 42,
      "metadata": {
        "colab": {
          "base_uri": "https://localhost:8080/"
        },
        "id": "A70FvKErYV_P",
        "outputId": "e557a69e-96b4-49e7-a06a-256dec50deed"
      },
      "outputs": [
        {
          "output_type": "stream",
          "name": "stdout",
          "text": [
            "Epoch 1/100\n",
            "4/4 [==============================] - 1s 100ms/step - loss: 392.9319 - accuracy: 0.4986 - val_loss: 347.4001 - val_accuracy: 0.3933\n",
            "Epoch 2/100\n",
            "4/4 [==============================] - 0s 21ms/step - loss: 231.3026 - accuracy: 0.5127 - val_loss: 230.9839 - val_accuracy: 0.4831\n",
            "Epoch 3/100\n",
            "4/4 [==============================] - 0s 17ms/step - loss: 127.6714 - accuracy: 0.5296 - val_loss: 167.0192 - val_accuracy: 0.5056\n",
            "Epoch 4/100\n",
            "4/4 [==============================] - 0s 17ms/step - loss: 113.5818 - accuracy: 0.4845 - val_loss: 158.0589 - val_accuracy: 0.6180\n",
            "Epoch 5/100\n",
            "4/4 [==============================] - 0s 17ms/step - loss: 100.8115 - accuracy: 0.4901 - val_loss: 83.0871 - val_accuracy: 0.6067\n",
            "Epoch 6/100\n",
            "4/4 [==============================] - 0s 19ms/step - loss: 46.3629 - accuracy: 0.4845 - val_loss: 65.4022 - val_accuracy: 0.4157\n",
            "Epoch 7/100\n",
            "4/4 [==============================] - 0s 23ms/step - loss: 45.8439 - accuracy: 0.4930 - val_loss: 28.4579 - val_accuracy: 0.3596\n",
            "Epoch 8/100\n",
            "4/4 [==============================] - 0s 25ms/step - loss: 20.0114 - accuracy: 0.4507 - val_loss: 15.6778 - val_accuracy: 0.6180\n",
            "Epoch 9/100\n",
            "4/4 [==============================] - 0s 19ms/step - loss: 25.4511 - accuracy: 0.4873 - val_loss: 9.0431 - val_accuracy: 0.5618\n",
            "Epoch 10/100\n",
            "4/4 [==============================] - 0s 25ms/step - loss: 14.9450 - accuracy: 0.4901 - val_loss: 12.3040 - val_accuracy: 0.3933\n",
            "Epoch 11/100\n",
            "4/4 [==============================] - 0s 18ms/step - loss: 9.7292 - accuracy: 0.5324 - val_loss: 6.5036 - val_accuracy: 0.6292\n",
            "Epoch 12/100\n",
            "4/4 [==============================] - 0s 26ms/step - loss: 10.4187 - accuracy: 0.4986 - val_loss: 7.0692 - val_accuracy: 0.5281\n",
            "Epoch 13/100\n",
            "4/4 [==============================] - 0s 26ms/step - loss: 9.1828 - accuracy: 0.5718 - val_loss: 4.2475 - val_accuracy: 0.6742\n",
            "Epoch 14/100\n",
            "4/4 [==============================] - 0s 25ms/step - loss: 7.4152 - accuracy: 0.5521 - val_loss: 7.7160 - val_accuracy: 0.4382\n",
            "Epoch 15/100\n",
            "4/4 [==============================] - 0s 25ms/step - loss: 7.3055 - accuracy: 0.5296 - val_loss: 3.7639 - val_accuracy: 0.6067\n",
            "Epoch 16/100\n",
            "4/4 [==============================] - 0s 18ms/step - loss: 6.6940 - accuracy: 0.5380 - val_loss: 4.1623 - val_accuracy: 0.5843\n",
            "Epoch 17/100\n",
            "4/4 [==============================] - 0s 20ms/step - loss: 5.6532 - accuracy: 0.5775 - val_loss: 3.0219 - val_accuracy: 0.6854\n",
            "Epoch 18/100\n",
            "4/4 [==============================] - 0s 25ms/step - loss: 6.6073 - accuracy: 0.5606 - val_loss: 2.9620 - val_accuracy: 0.6742\n",
            "Epoch 19/100\n",
            "4/4 [==============================] - 0s 24ms/step - loss: 6.3428 - accuracy: 0.5662 - val_loss: 4.3705 - val_accuracy: 0.5506\n",
            "Epoch 20/100\n",
            "4/4 [==============================] - 0s 30ms/step - loss: 5.0788 - accuracy: 0.5408 - val_loss: 2.7742 - val_accuracy: 0.6629\n",
            "Epoch 21/100\n",
            "4/4 [==============================] - 0s 21ms/step - loss: 4.4209 - accuracy: 0.5775 - val_loss: 3.2882 - val_accuracy: 0.5843\n",
            "Epoch 22/100\n",
            "4/4 [==============================] - 0s 25ms/step - loss: 3.9038 - accuracy: 0.5775 - val_loss: 3.3006 - val_accuracy: 0.6180\n",
            "Epoch 23/100\n",
            "4/4 [==============================] - 0s 21ms/step - loss: 3.4992 - accuracy: 0.5831 - val_loss: 2.0539 - val_accuracy: 0.6854\n",
            "Epoch 24/100\n",
            "4/4 [==============================] - 0s 24ms/step - loss: 3.5005 - accuracy: 0.5944 - val_loss: 2.4329 - val_accuracy: 0.5955\n",
            "Epoch 25/100\n",
            "4/4 [==============================] - 0s 16ms/step - loss: 3.3690 - accuracy: 0.5887 - val_loss: 2.3874 - val_accuracy: 0.6404\n",
            "Epoch 26/100\n",
            "4/4 [==============================] - 0s 15ms/step - loss: 3.0626 - accuracy: 0.5690 - val_loss: 3.1058 - val_accuracy: 0.5730\n",
            "Epoch 27/100\n",
            "4/4 [==============================] - 0s 21ms/step - loss: 3.1029 - accuracy: 0.5493 - val_loss: 2.2364 - val_accuracy: 0.5955\n",
            "Epoch 28/100\n",
            "4/4 [==============================] - 0s 14ms/step - loss: 3.1088 - accuracy: 0.5690 - val_loss: 1.8785 - val_accuracy: 0.6292\n",
            "Epoch 29/100\n",
            "4/4 [==============================] - 0s 14ms/step - loss: 3.0569 - accuracy: 0.5662 - val_loss: 1.7071 - val_accuracy: 0.7079\n",
            "Epoch 30/100\n",
            "4/4 [==============================] - 0s 14ms/step - loss: 2.2676 - accuracy: 0.5972 - val_loss: 2.4670 - val_accuracy: 0.6292\n",
            "Epoch 31/100\n",
            "4/4 [==============================] - 0s 16ms/step - loss: 2.1923 - accuracy: 0.5859 - val_loss: 1.9916 - val_accuracy: 0.6404\n",
            "Epoch 32/100\n",
            "4/4 [==============================] - 0s 14ms/step - loss: 3.0403 - accuracy: 0.5831 - val_loss: 3.3573 - val_accuracy: 0.6742\n",
            "Epoch 33/100\n",
            "4/4 [==============================] - 0s 13ms/step - loss: 5.0524 - accuracy: 0.5662 - val_loss: 3.8397 - val_accuracy: 0.4607\n",
            "Epoch 34/100\n",
            "4/4 [==============================] - 0s 12ms/step - loss: 5.6713 - accuracy: 0.5521 - val_loss: 4.4981 - val_accuracy: 0.4494\n",
            "Epoch 35/100\n",
            "4/4 [==============================] - 0s 19ms/step - loss: 3.6289 - accuracy: 0.5380 - val_loss: 2.7953 - val_accuracy: 0.6517\n",
            "Epoch 36/100\n",
            "4/4 [==============================] - 0s 13ms/step - loss: 4.2134 - accuracy: 0.5775 - val_loss: 2.9035 - val_accuracy: 0.4719\n",
            "Epoch 37/100\n",
            "4/4 [==============================] - 0s 13ms/step - loss: 3.8626 - accuracy: 0.5662 - val_loss: 4.5272 - val_accuracy: 0.4607\n",
            "Epoch 38/100\n",
            "4/4 [==============================] - 0s 13ms/step - loss: 3.7576 - accuracy: 0.5775 - val_loss: 1.6575 - val_accuracy: 0.6854\n",
            "Epoch 39/100\n",
            "4/4 [==============================] - 0s 13ms/step - loss: 3.3307 - accuracy: 0.5549 - val_loss: 4.0687 - val_accuracy: 0.6292\n",
            "Epoch 40/100\n",
            "4/4 [==============================] - 0s 19ms/step - loss: 3.4204 - accuracy: 0.5972 - val_loss: 1.4035 - val_accuracy: 0.6854\n",
            "Epoch 41/100\n",
            "4/4 [==============================] - 0s 14ms/step - loss: 2.3620 - accuracy: 0.5803 - val_loss: 1.5080 - val_accuracy: 0.7079\n",
            "Epoch 42/100\n",
            "4/4 [==============================] - 0s 14ms/step - loss: 1.6228 - accuracy: 0.6254 - val_loss: 3.2240 - val_accuracy: 0.4719\n",
            "Epoch 43/100\n",
            "4/4 [==============================] - 0s 13ms/step - loss: 2.2180 - accuracy: 0.6000 - val_loss: 2.4037 - val_accuracy: 0.4944\n",
            "Epoch 44/100\n",
            "4/4 [==============================] - 0s 17ms/step - loss: 2.6449 - accuracy: 0.5831 - val_loss: 2.9239 - val_accuracy: 0.4831\n",
            "Epoch 45/100\n",
            "4/4 [==============================] - 0s 13ms/step - loss: 3.3214 - accuracy: 0.5690 - val_loss: 3.9366 - val_accuracy: 0.4719\n",
            "Epoch 46/100\n",
            "4/4 [==============================] - 0s 14ms/step - loss: 2.3410 - accuracy: 0.6225 - val_loss: 3.5799 - val_accuracy: 0.4831\n",
            "Epoch 47/100\n",
            "4/4 [==============================] - 0s 19ms/step - loss: 2.6930 - accuracy: 0.5690 - val_loss: 6.2735 - val_accuracy: 0.4607\n",
            "Epoch 48/100\n",
            "4/4 [==============================] - 0s 18ms/step - loss: 5.1561 - accuracy: 0.5746 - val_loss: 4.9643 - val_accuracy: 0.6292\n",
            "Epoch 49/100\n",
            "4/4 [==============================] - 0s 14ms/step - loss: 5.3837 - accuracy: 0.5127 - val_loss: 3.1077 - val_accuracy: 0.4494\n",
            "Epoch 50/100\n",
            "4/4 [==============================] - 0s 13ms/step - loss: 4.1279 - accuracy: 0.5577 - val_loss: 2.9137 - val_accuracy: 0.4719\n",
            "Epoch 51/100\n",
            "4/4 [==============================] - 0s 13ms/step - loss: 2.4420 - accuracy: 0.6000 - val_loss: 1.8895 - val_accuracy: 0.5506\n",
            "Epoch 52/100\n",
            "4/4 [==============================] - 0s 14ms/step - loss: 1.8813 - accuracy: 0.5746 - val_loss: 3.5555 - val_accuracy: 0.4944\n",
            "Epoch 53/100\n",
            "4/4 [==============================] - 0s 19ms/step - loss: 3.1552 - accuracy: 0.5521 - val_loss: 5.1551 - val_accuracy: 0.4607\n",
            "Epoch 54/100\n",
            "4/4 [==============================] - 0s 13ms/step - loss: 3.4835 - accuracy: 0.5944 - val_loss: 6.4726 - val_accuracy: 0.6067\n",
            "Epoch 55/100\n",
            "4/4 [==============================] - 0s 14ms/step - loss: 6.7911 - accuracy: 0.5549 - val_loss: 6.8494 - val_accuracy: 0.3820\n",
            "Epoch 56/100\n",
            "4/4 [==============================] - 0s 15ms/step - loss: 4.1995 - accuracy: 0.5521 - val_loss: 4.5106 - val_accuracy: 0.4831\n",
            "Epoch 57/100\n",
            "4/4 [==============================] - 0s 14ms/step - loss: 4.4794 - accuracy: 0.5887 - val_loss: 4.9965 - val_accuracy: 0.6404\n",
            "Epoch 58/100\n",
            "4/4 [==============================] - 0s 19ms/step - loss: 3.8063 - accuracy: 0.5437 - val_loss: 3.8755 - val_accuracy: 0.4494\n",
            "Epoch 59/100\n",
            "4/4 [==============================] - 0s 19ms/step - loss: 3.0199 - accuracy: 0.5718 - val_loss: 4.1507 - val_accuracy: 0.4607\n",
            "Epoch 60/100\n",
            "4/4 [==============================] - 0s 13ms/step - loss: 2.4517 - accuracy: 0.5915 - val_loss: 2.1627 - val_accuracy: 0.6292\n",
            "Epoch 61/100\n",
            "4/4 [==============================] - 0s 13ms/step - loss: 2.4681 - accuracy: 0.6000 - val_loss: 1.8619 - val_accuracy: 0.6742\n",
            "Epoch 62/100\n",
            "4/4 [==============================] - 0s 17ms/step - loss: 1.8682 - accuracy: 0.6169 - val_loss: 2.1502 - val_accuracy: 0.4944\n",
            "Epoch 63/100\n",
            "4/4 [==============================] - 0s 13ms/step - loss: 1.5914 - accuracy: 0.6000 - val_loss: 2.8243 - val_accuracy: 0.4719\n",
            "Epoch 64/100\n",
            "4/4 [==============================] - 0s 14ms/step - loss: 1.6205 - accuracy: 0.6225 - val_loss: 2.7477 - val_accuracy: 0.5169\n",
            "Epoch 65/100\n",
            "4/4 [==============================] - 0s 13ms/step - loss: 2.2147 - accuracy: 0.5775 - val_loss: 1.5853 - val_accuracy: 0.6742\n",
            "Epoch 66/100\n",
            "4/4 [==============================] - 0s 13ms/step - loss: 1.2583 - accuracy: 0.6676 - val_loss: 1.3472 - val_accuracy: 0.6629\n",
            "Epoch 67/100\n",
            "4/4 [==============================] - 0s 21ms/step - loss: 1.3021 - accuracy: 0.6676 - val_loss: 2.2233 - val_accuracy: 0.5056\n",
            "Epoch 68/100\n",
            "4/4 [==============================] - 0s 13ms/step - loss: 1.7572 - accuracy: 0.6113 - val_loss: 2.4415 - val_accuracy: 0.4719\n",
            "Epoch 69/100\n",
            "4/4 [==============================] - 0s 13ms/step - loss: 1.3106 - accuracy: 0.6620 - val_loss: 2.3522 - val_accuracy: 0.5281\n",
            "Epoch 70/100\n",
            "4/4 [==============================] - 0s 14ms/step - loss: 1.3785 - accuracy: 0.6225 - val_loss: 1.4465 - val_accuracy: 0.7079\n",
            "Epoch 71/100\n",
            "4/4 [==============================] - 0s 19ms/step - loss: 1.4327 - accuracy: 0.6394 - val_loss: 1.6296 - val_accuracy: 0.6854\n",
            "Epoch 72/100\n",
            "4/4 [==============================] - 0s 15ms/step - loss: 1.3125 - accuracy: 0.6169 - val_loss: 2.3726 - val_accuracy: 0.6742\n",
            "Epoch 73/100\n",
            "4/4 [==============================] - 0s 16ms/step - loss: 1.8160 - accuracy: 0.6113 - val_loss: 1.7961 - val_accuracy: 0.6517\n",
            "Epoch 74/100\n",
            "4/4 [==============================] - 0s 15ms/step - loss: 1.8521 - accuracy: 0.5944 - val_loss: 2.7129 - val_accuracy: 0.6517\n",
            "Epoch 75/100\n",
            "4/4 [==============================] - 0s 13ms/step - loss: 2.6215 - accuracy: 0.5577 - val_loss: 2.2277 - val_accuracy: 0.6742\n",
            "Epoch 76/100\n",
            "4/4 [==============================] - 0s 14ms/step - loss: 2.9704 - accuracy: 0.6197 - val_loss: 3.1780 - val_accuracy: 0.4719\n",
            "Epoch 77/100\n",
            "4/4 [==============================] - 0s 15ms/step - loss: 4.8956 - accuracy: 0.5549 - val_loss: 3.0736 - val_accuracy: 0.4719\n",
            "Epoch 78/100\n",
            "4/4 [==============================] - 0s 20ms/step - loss: 2.1103 - accuracy: 0.6028 - val_loss: 2.0734 - val_accuracy: 0.6629\n",
            "Epoch 79/100\n",
            "4/4 [==============================] - 0s 20ms/step - loss: 2.2508 - accuracy: 0.6282 - val_loss: 1.7321 - val_accuracy: 0.5730\n",
            "Epoch 80/100\n",
            "4/4 [==============================] - 0s 14ms/step - loss: 1.1775 - accuracy: 0.6366 - val_loss: 1.5291 - val_accuracy: 0.6292\n",
            "Epoch 81/100\n",
            "4/4 [==============================] - 0s 13ms/step - loss: 1.4899 - accuracy: 0.6366 - val_loss: 2.8171 - val_accuracy: 0.4719\n",
            "Epoch 82/100\n",
            "4/4 [==============================] - 0s 14ms/step - loss: 1.4008 - accuracy: 0.6254 - val_loss: 1.8479 - val_accuracy: 0.5056\n",
            "Epoch 83/100\n",
            "4/4 [==============================] - 0s 14ms/step - loss: 2.0371 - accuracy: 0.6000 - val_loss: 5.5195 - val_accuracy: 0.4607\n",
            "Epoch 84/100\n",
            "4/4 [==============================] - 0s 20ms/step - loss: 3.7408 - accuracy: 0.5944 - val_loss: 5.0398 - val_accuracy: 0.4831\n",
            "Epoch 85/100\n",
            "4/4 [==============================] - 0s 13ms/step - loss: 3.3160 - accuracy: 0.6056 - val_loss: 1.7737 - val_accuracy: 0.6742\n",
            "Epoch 86/100\n",
            "4/4 [==============================] - 0s 13ms/step - loss: 3.6567 - accuracy: 0.5634 - val_loss: 2.3513 - val_accuracy: 0.6854\n",
            "Epoch 87/100\n",
            "4/4 [==============================] - 0s 14ms/step - loss: 2.5436 - accuracy: 0.5690 - val_loss: 2.9374 - val_accuracy: 0.6404\n",
            "Epoch 88/100\n",
            "4/4 [==============================] - 0s 15ms/step - loss: 2.6695 - accuracy: 0.6254 - val_loss: 3.2223 - val_accuracy: 0.4719\n",
            "Epoch 89/100\n",
            "4/4 [==============================] - 0s 13ms/step - loss: 2.3495 - accuracy: 0.5690 - val_loss: 1.5048 - val_accuracy: 0.6966\n",
            "Epoch 90/100\n",
            "4/4 [==============================] - 0s 20ms/step - loss: 1.2232 - accuracy: 0.6197 - val_loss: 1.6189 - val_accuracy: 0.5618\n",
            "Epoch 91/100\n",
            "4/4 [==============================] - 0s 20ms/step - loss: 1.0928 - accuracy: 0.6676 - val_loss: 1.5662 - val_accuracy: 0.6629\n",
            "Epoch 92/100\n",
            "4/4 [==============================] - 0s 21ms/step - loss: 1.1642 - accuracy: 0.6732 - val_loss: 2.3190 - val_accuracy: 0.5056\n",
            "Epoch 93/100\n",
            "4/4 [==============================] - 0s 13ms/step - loss: 1.1682 - accuracy: 0.6873 - val_loss: 1.8525 - val_accuracy: 0.5169\n",
            "Epoch 94/100\n",
            "4/4 [==============================] - 0s 13ms/step - loss: 1.0520 - accuracy: 0.6423 - val_loss: 2.0844 - val_accuracy: 0.6854\n",
            "Epoch 95/100\n",
            "4/4 [==============================] - 0s 14ms/step - loss: 2.0554 - accuracy: 0.6338 - val_loss: 1.6571 - val_accuracy: 0.6292\n",
            "Epoch 96/100\n",
            "4/4 [==============================] - 0s 19ms/step - loss: 2.1148 - accuracy: 0.6113 - val_loss: 2.4639 - val_accuracy: 0.6517\n",
            "Epoch 97/100\n",
            "4/4 [==============================] - 0s 15ms/step - loss: 2.1855 - accuracy: 0.6028 - val_loss: 2.6964 - val_accuracy: 0.6629\n",
            "Epoch 98/100\n",
            "4/4 [==============================] - 0s 15ms/step - loss: 3.5829 - accuracy: 0.5324 - val_loss: 2.1515 - val_accuracy: 0.6854\n",
            "Epoch 99/100\n",
            "4/4 [==============================] - 0s 14ms/step - loss: 2.5181 - accuracy: 0.6028 - val_loss: 5.6831 - val_accuracy: 0.4382\n",
            "Epoch 100/100\n",
            "4/4 [==============================] - 0s 20ms/step - loss: 3.5094 - accuracy: 0.5634 - val_loss: 1.6753 - val_accuracy: 0.6742\n"
          ]
        }
      ],
      "source": [
        "#fitting the ANN to the training set\n",
        "model_history = classifier.fit(x_train, y_train, batch_size=100, validation_split=0.2, epochs=100)"
      ]
    },
    {
      "cell_type": "markdown",
      "metadata": {
        "id": "uB_9FzSsYxyr"
      },
      "source": [
        "# **Testing the model**"
      ]
    },
    {
      "cell_type": "code",
      "execution_count": 53,
      "metadata": {
        "id": "RWoByffxYuac"
      },
      "outputs": [],
      "source": [
        "def decisionTree(x_train,x_test,y_train,y_test):\n",
        " dt=DecisionTreeClassifier()\n",
        " dt.fit(x_train,y_train)\n",
        " dt.predict([[1,1,0,1,1,4276,1542,145,220,0,1]])"
      ]
    },
    {
      "cell_type": "code",
      "execution_count": 54,
      "metadata": {
        "id": "Nr4J7Q2Jd9UZ"
      },
      "outputs": [],
      "source": [
        "def randomForest(x_train,x_test,y_train,y_test):\n",
        " rf=RandomForestClassifier()\n",
        " rf.fit(x_train,y_train)\n",
        " rf.predict([[1,1,0,1,1,4276,1542,145,220,0,1]])"
      ]
    },
    {
      "cell_type": "code",
      "execution_count": 55,
      "metadata": {
        "id": "lhb0qWBseDpH"
      },
      "outputs": [],
      "source": [
        "def KNN(x_train,x_test,y_train,y_test):\n",
        " KNN=KNeighborsClassifier()\n",
        " KNN.fit(x_train,y_train)\n",
        " KNN.predict([[1,1,0,1,1,4276,1542,145,220,0,1]])"
      ]
    },
    {
      "cell_type": "code",
      "execution_count": 56,
      "metadata": {
        "id": "QZYHqIFieIV1"
      },
      "outputs": [],
      "source": [
        "def Xgboost(x_train,x_test,y_train,y_test):\n",
        " xg=GradientBoostingClassifier()\n",
        " xg.fit(x_train,y_train)\n",
        " xg.predict([[1,1,0,1,1,4276,1542,145,220,0,1]])"
      ]
    },
    {
      "cell_type": "code",
      "execution_count": 57,
      "metadata": {
        "id": "M5DdfbOkdUGE"
      },
      "outputs": [],
      "source": [
        "classifier.save(\"loan.h5\")"
      ]
    },
    {
      "cell_type": "code",
      "execution_count": 58,
      "metadata": {
        "colab": {
          "base_uri": "https://localhost:8080/"
        },
        "id": "2IiD-UzCdlwl",
        "outputId": "e7cabcec-b137-426d-f326-005dd7a8acb8"
      },
      "outputs": [
        {
          "output_type": "stream",
          "name": "stdout",
          "text": [
            "7/7 [==============================] - 0s 2ms/step\n"
          ]
        }
      ],
      "source": [
        "y_pred=classifier.predict(x_test)"
      ]
    },
    {
      "cell_type": "code",
      "execution_count": 59,
      "metadata": {
        "colab": {
          "base_uri": "https://localhost:8080/"
        },
        "id": "UUC83Zq2dwV5",
        "outputId": "51f3fdfd-a6d1-4b32-ea44-e34b0a7b166d"
      },
      "outputs": [
        {
          "output_type": "execute_result",
          "data": {
            "text/plain": [
              "array([[5.2364986e-02],\n",
              "       [9.6122807e-01],\n",
              "       [9.2595192e-03],\n",
              "       [1.0000000e+00],\n",
              "       [2.9427949e-01],\n",
              "       [9.6403968e-01],\n",
              "       [9.8214656e-01],\n",
              "       [3.6129275e-01],\n",
              "       [9.1411400e-01],\n",
              "       [5.5960272e-03],\n",
              "       [2.8220188e-06],\n",
              "       [9.6507615e-01],\n",
              "       [1.5920632e-02],\n",
              "       [6.9605798e-01],\n",
              "       [1.0886265e-01],\n",
              "       [7.0728756e-02],\n",
              "       [4.1240601e-06],\n",
              "       [8.0638933e-01],\n",
              "       [1.1495072e-01],\n",
              "       [9.9934256e-01],\n",
              "       [9.9261624e-01],\n",
              "       [8.7001055e-01],\n",
              "       [9.9793333e-01],\n",
              "       [1.9002799e-02],\n",
              "       [1.9214264e-03],\n",
              "       [9.0626931e-01],\n",
              "       [6.9011815e-02],\n",
              "       [9.0884107e-01],\n",
              "       [1.7541961e-03],\n",
              "       [9.4812590e-01],\n",
              "       [7.7569067e-01],\n",
              "       [4.1047880e-01],\n",
              "       [7.4332923e-01],\n",
              "       [4.2640296e-04],\n",
              "       [9.4950366e-01],\n",
              "       [8.7952298e-01],\n",
              "       [5.6656546e-08],\n",
              "       [7.2578802e-03],\n",
              "       [9.4296706e-01],\n",
              "       [8.8256158e-02],\n",
              "       [2.4117167e-05],\n",
              "       [9.2824876e-01],\n",
              "       [6.9842853e-02],\n",
              "       [9.9998790e-01],\n",
              "       [7.9835087e-02],\n",
              "       [2.8991598e-01],\n",
              "       [6.4427099e-05],\n",
              "       [2.3392867e-03],\n",
              "       [9.6192265e-01],\n",
              "       [1.2652174e-04],\n",
              "       [9.3663037e-01],\n",
              "       [1.6783919e-03],\n",
              "       [9.3214935e-01],\n",
              "       [9.1371959e-04],\n",
              "       [9.9948853e-01],\n",
              "       [1.2597880e-01],\n",
              "       [9.3166423e-01],\n",
              "       [9.8612684e-01],\n",
              "       [9.8608190e-01],\n",
              "       [8.0575490e-01],\n",
              "       [4.7223607e-01],\n",
              "       [9.3931973e-01],\n",
              "       [9.1508591e-01],\n",
              "       [5.2911513e-02],\n",
              "       [7.1356684e-01],\n",
              "       [2.8131892e-05],\n",
              "       [1.1254734e-06],\n",
              "       [9.9643016e-01],\n",
              "       [9.6731842e-01],\n",
              "       [9.5585299e-01],\n",
              "       [3.5533038e-01],\n",
              "       [4.1397816e-01],\n",
              "       [7.5224113e-01],\n",
              "       [2.0811878e-07],\n",
              "       [3.8524947e-01],\n",
              "       [9.5087409e-01],\n",
              "       [1.0000000e+00],\n",
              "       [9.3081617e-01],\n",
              "       [5.6792676e-01],\n",
              "       [9.0839222e-02],\n",
              "       [9.1057068e-01],\n",
              "       [2.7953449e-01],\n",
              "       [2.2216351e-04],\n",
              "       [8.4936184e-01],\n",
              "       [3.1109416e-06],\n",
              "       [2.4732812e-05],\n",
              "       [9.7539186e-01],\n",
              "       [8.6063540e-01],\n",
              "       [9.5939845e-01],\n",
              "       [7.5520945e-01],\n",
              "       [9.6014529e-01],\n",
              "       [2.7145389e-02],\n",
              "       [4.8744325e-03],\n",
              "       [9.6283227e-02],\n",
              "       [1.1672927e-09],\n",
              "       [8.7567216e-01],\n",
              "       [5.1372319e-01],\n",
              "       [8.0168266e-03],\n",
              "       [9.9386019e-01],\n",
              "       [9.9987739e-01],\n",
              "       [4.5844879e-02],\n",
              "       [2.7405941e-01],\n",
              "       [3.6003618e-03],\n",
              "       [2.1710264e-04],\n",
              "       [7.0968723e-01],\n",
              "       [9.2096794e-01],\n",
              "       [7.3919040e-03],\n",
              "       [8.7906462e-01],\n",
              "       [6.3866593e-02],\n",
              "       [9.8702174e-01],\n",
              "       [2.4592336e-01],\n",
              "       [9.9763852e-01],\n",
              "       [9.6877736e-01],\n",
              "       [1.1535572e-01],\n",
              "       [5.2665603e-01],\n",
              "       [9.9873936e-01],\n",
              "       [1.9899493e-01],\n",
              "       [9.9998909e-01],\n",
              "       [8.3901054e-01],\n",
              "       [8.3073322e-03],\n",
              "       [8.4375507e-01],\n",
              "       [1.2352224e-01],\n",
              "       [2.1398302e-04],\n",
              "       [1.9651803e-03],\n",
              "       [8.4512806e-01],\n",
              "       [9.9407649e-01],\n",
              "       [3.4178089e-02],\n",
              "       [3.0225706e-01],\n",
              "       [7.5436509e-01],\n",
              "       [8.1415522e-01],\n",
              "       [7.2539493e-02],\n",
              "       [2.1453788e-04],\n",
              "       [9.4258881e-01],\n",
              "       [9.2936468e-01],\n",
              "       [1.1660731e-01],\n",
              "       [9.8679632e-01],\n",
              "       [5.4863328e-01],\n",
              "       [2.8596938e-01],\n",
              "       [4.4074509e-04],\n",
              "       [9.4508141e-01],\n",
              "       [9.9250734e-01],\n",
              "       [4.4915426e-01],\n",
              "       [3.9631207e-02],\n",
              "       [6.6361904e-01],\n",
              "       [1.0020755e-07],\n",
              "       [9.7951156e-01],\n",
              "       [8.6074739e-05],\n",
              "       [9.9987459e-01],\n",
              "       [1.2689753e-02],\n",
              "       [9.9999332e-01],\n",
              "       [1.8303416e-03],\n",
              "       [9.9985766e-01],\n",
              "       [1.3074075e-04],\n",
              "       [4.7281036e-01],\n",
              "       [2.1248561e-01],\n",
              "       [5.0031036e-01],\n",
              "       [9.8337054e-01],\n",
              "       [9.9611527e-01],\n",
              "       [1.9096262e-04],\n",
              "       [9.9999213e-01],\n",
              "       [2.2529505e-01],\n",
              "       [1.5406226e-01],\n",
              "       [9.9999553e-01],\n",
              "       [7.6202959e-01],\n",
              "       [8.9054340e-01],\n",
              "       [9.9997550e-01],\n",
              "       [8.2285929e-01],\n",
              "       [7.7632064e-01],\n",
              "       [9.7788650e-01],\n",
              "       [9.5123315e-01],\n",
              "       [4.1194364e-01],\n",
              "       [2.5711274e-01],\n",
              "       [9.6182305e-01],\n",
              "       [6.5802058e-05],\n",
              "       [9.9199158e-01],\n",
              "       [9.2270392e-01],\n",
              "       [8.4070772e-01],\n",
              "       [8.5292178e-01],\n",
              "       [7.2522426e-01],\n",
              "       [9.7883260e-01],\n",
              "       [2.1502569e-01],\n",
              "       [5.2507341e-01],\n",
              "       [9.8337901e-01],\n",
              "       [9.9971420e-01],\n",
              "       [9.1644716e-01],\n",
              "       [8.9613336e-01],\n",
              "       [9.9991840e-01],\n",
              "       [3.6523484e-02],\n",
              "       [9.3200827e-01],\n",
              "       [3.4483239e-01],\n",
              "       [3.6739174e-03],\n",
              "       [7.3409669e-02],\n",
              "       [9.9973273e-01],\n",
              "       [9.6515423e-01],\n",
              "       [8.8756955e-01],\n",
              "       [3.0063441e-01],\n",
              "       [2.6172835e-01],\n",
              "       [9.9358821e-01],\n",
              "       [3.9587241e-01],\n",
              "       [9.9678493e-01],\n",
              "       [4.2342135e-06],\n",
              "       [7.9667675e-01],\n",
              "       [9.8205858e-01],\n",
              "       [9.9979931e-01],\n",
              "       [9.4150674e-01],\n",
              "       [1.0000000e+00],\n",
              "       [9.9832273e-01],\n",
              "       [6.0588732e-02],\n",
              "       [1.0942639e-06],\n",
              "       [9.6173948e-01],\n",
              "       [2.8892175e-11],\n",
              "       [8.0024689e-01],\n",
              "       [9.5864490e-02],\n",
              "       [8.4534365e-01],\n",
              "       [1.5013658e-01],\n",
              "       [3.4775407e-05],\n",
              "       [3.9217755e-02],\n",
              "       [5.4613099e-02],\n",
              "       [6.4170144e-02]], dtype=float32)"
            ]
          },
          "metadata": {},
          "execution_count": 59
        }
      ],
      "source": [
        "y_pred"
      ]
    },
    {
      "cell_type": "code",
      "execution_count": 60,
      "metadata": {
        "colab": {
          "base_uri": "https://localhost:8080/"
        },
        "id": "fl6cRcMmd_aw",
        "outputId": "0a78273e-8f7b-461d-efb1-a94147078905"
      },
      "outputs": [
        {
          "output_type": "execute_result",
          "data": {
            "text/plain": [
              "array([[False],\n",
              "       [ True],\n",
              "       [False],\n",
              "       [ True],\n",
              "       [False],\n",
              "       [ True],\n",
              "       [ True],\n",
              "       [False],\n",
              "       [ True],\n",
              "       [False],\n",
              "       [False],\n",
              "       [ True],\n",
              "       [False],\n",
              "       [ True],\n",
              "       [False],\n",
              "       [False],\n",
              "       [False],\n",
              "       [ True],\n",
              "       [False],\n",
              "       [ True],\n",
              "       [ True],\n",
              "       [ True],\n",
              "       [ True],\n",
              "       [False],\n",
              "       [False],\n",
              "       [ True],\n",
              "       [False],\n",
              "       [ True],\n",
              "       [False],\n",
              "       [ True],\n",
              "       [ True],\n",
              "       [False],\n",
              "       [ True],\n",
              "       [False],\n",
              "       [ True],\n",
              "       [ True],\n",
              "       [False],\n",
              "       [False],\n",
              "       [ True],\n",
              "       [False],\n",
              "       [False],\n",
              "       [ True],\n",
              "       [False],\n",
              "       [ True],\n",
              "       [False],\n",
              "       [False],\n",
              "       [False],\n",
              "       [False],\n",
              "       [ True],\n",
              "       [False],\n",
              "       [ True],\n",
              "       [False],\n",
              "       [ True],\n",
              "       [False],\n",
              "       [ True],\n",
              "       [False],\n",
              "       [ True],\n",
              "       [ True],\n",
              "       [ True],\n",
              "       [ True],\n",
              "       [False],\n",
              "       [ True],\n",
              "       [ True],\n",
              "       [False],\n",
              "       [ True],\n",
              "       [False],\n",
              "       [False],\n",
              "       [ True],\n",
              "       [ True],\n",
              "       [ True],\n",
              "       [False],\n",
              "       [False],\n",
              "       [ True],\n",
              "       [False],\n",
              "       [False],\n",
              "       [ True],\n",
              "       [ True],\n",
              "       [ True],\n",
              "       [ True],\n",
              "       [False],\n",
              "       [ True],\n",
              "       [False],\n",
              "       [False],\n",
              "       [ True],\n",
              "       [False],\n",
              "       [False],\n",
              "       [ True],\n",
              "       [ True],\n",
              "       [ True],\n",
              "       [ True],\n",
              "       [ True],\n",
              "       [False],\n",
              "       [False],\n",
              "       [False],\n",
              "       [False],\n",
              "       [ True],\n",
              "       [ True],\n",
              "       [False],\n",
              "       [ True],\n",
              "       [ True],\n",
              "       [False],\n",
              "       [False],\n",
              "       [False],\n",
              "       [False],\n",
              "       [ True],\n",
              "       [ True],\n",
              "       [False],\n",
              "       [ True],\n",
              "       [False],\n",
              "       [ True],\n",
              "       [False],\n",
              "       [ True],\n",
              "       [ True],\n",
              "       [False],\n",
              "       [ True],\n",
              "       [ True],\n",
              "       [False],\n",
              "       [ True],\n",
              "       [ True],\n",
              "       [False],\n",
              "       [ True],\n",
              "       [False],\n",
              "       [False],\n",
              "       [False],\n",
              "       [ True],\n",
              "       [ True],\n",
              "       [False],\n",
              "       [False],\n",
              "       [ True],\n",
              "       [ True],\n",
              "       [False],\n",
              "       [False],\n",
              "       [ True],\n",
              "       [ True],\n",
              "       [False],\n",
              "       [ True],\n",
              "       [ True],\n",
              "       [False],\n",
              "       [False],\n",
              "       [ True],\n",
              "       [ True],\n",
              "       [False],\n",
              "       [False],\n",
              "       [ True],\n",
              "       [False],\n",
              "       [ True],\n",
              "       [False],\n",
              "       [ True],\n",
              "       [False],\n",
              "       [ True],\n",
              "       [False],\n",
              "       [ True],\n",
              "       [False],\n",
              "       [False],\n",
              "       [False],\n",
              "       [ True],\n",
              "       [ True],\n",
              "       [ True],\n",
              "       [False],\n",
              "       [ True],\n",
              "       [False],\n",
              "       [False],\n",
              "       [ True],\n",
              "       [ True],\n",
              "       [ True],\n",
              "       [ True],\n",
              "       [ True],\n",
              "       [ True],\n",
              "       [ True],\n",
              "       [ True],\n",
              "       [False],\n",
              "       [False],\n",
              "       [ True],\n",
              "       [False],\n",
              "       [ True],\n",
              "       [ True],\n",
              "       [ True],\n",
              "       [ True],\n",
              "       [ True],\n",
              "       [ True],\n",
              "       [False],\n",
              "       [ True],\n",
              "       [ True],\n",
              "       [ True],\n",
              "       [ True],\n",
              "       [ True],\n",
              "       [ True],\n",
              "       [False],\n",
              "       [ True],\n",
              "       [False],\n",
              "       [False],\n",
              "       [False],\n",
              "       [ True],\n",
              "       [ True],\n",
              "       [ True],\n",
              "       [False],\n",
              "       [False],\n",
              "       [ True],\n",
              "       [False],\n",
              "       [ True],\n",
              "       [False],\n",
              "       [ True],\n",
              "       [ True],\n",
              "       [ True],\n",
              "       [ True],\n",
              "       [ True],\n",
              "       [ True],\n",
              "       [False],\n",
              "       [False],\n",
              "       [ True],\n",
              "       [False],\n",
              "       [ True],\n",
              "       [False],\n",
              "       [ True],\n",
              "       [False],\n",
              "       [False],\n",
              "       [False],\n",
              "       [False],\n",
              "       [False]])"
            ]
          },
          "metadata": {},
          "execution_count": 60
        }
      ],
      "source": [
        "y_pred=(y_pred>0.5)\n",
        "y_pred"
      ]
    },
    {
      "cell_type": "code",
      "execution_count": 65,
      "metadata": {
        "id": "tjVg4FEJeRK3"
      },
      "outputs": [],
      "source": [
        "def predict_exit(sample_value):\n",
        "  sample_value=np.array(sample_value)\n",
        "  sample_value=sample_value.reshape(1,-1)\n",
        "  return classifier.predict(sample_value)\n",
        "\n"
      ]
    },
    {
      "cell_type": "code",
      "execution_count": 66,
      "metadata": {
        "colab": {
          "base_uri": "https://localhost:8080/"
        },
        "id": "ZMyNgTX5MROi",
        "outputId": "5b7cad87-980e-49fe-c372-d21bc1f1c945"
      },
      "outputs": [
        {
          "output_type": "stream",
          "name": "stdout",
          "text": [
            "1/1 [==============================] - 0s 138ms/step\n",
            "prediction:high chance of loan approval!\n"
          ]
        }
      ],
      "source": [
        "sample_value=[[1,1,0,1,1,4276,1542,145,240,0,1]]\n",
        "if predict_exit(sample_value).all()>0.5:\n",
        "  print('prediction:high chance of loan approval!')\n",
        "else:\n",
        "  print('prediction:low chance loan approval.')\n"
      ]
    },
    {
      "cell_type": "markdown",
      "metadata": {
        "id": "dTY1u3qWgd4c"
      },
      "source": [
        "# **Performance testing & hyperparameter tuning**"
      ]
    },
    {
      "cell_type": "markdown",
      "metadata": {
        "id": "BGjK8fYDgsAY"
      },
      "source": [
        "compare the model"
      ]
    },
    {
      "cell_type": "code",
      "execution_count": 67,
      "metadata": {
        "id": "no3wXTeChI9s"
      },
      "outputs": [],
      "source": [
        "def compareModel(x_train,x_test,y_train,y_test):\n",
        "  x=data.drop(columns=['Loan_Status'],axis=1)\n",
        "  y=data['Loan_Status']\n",
        "  x_train,x_test,y_train,y_test=train_test_split(x_bal,y_bal,test_size=0.33,random_state=42)\n",
        "  decisionTree(x_train,x_test,y_train,y_test)\n",
        "  print('-'*100)\n",
        "  randomForest(x_train,x_test,y_train,y_test)\n",
        "  print('-'*100)\n",
        "  Xgboost(x_train,x_test,y_train,y_test)\n",
        "  print('-'*100)\n",
        "  KNN(x_train,x_test,y_train,y_test)\n",
        "  print('-'*100)\n"
      ]
    },
    {
      "cell_type": "code",
      "execution_count": 68,
      "metadata": {
        "colab": {
          "base_uri": "https://localhost:8080/"
        },
        "id": "AgnXN3S_Neqy",
        "outputId": "599986e5-08d4-42b3-b5ae-b7414a95c888"
      },
      "outputs": [
        {
          "output_type": "stream",
          "name": "stderr",
          "text": [
            "/usr/local/lib/python3.9/dist-packages/sklearn/base.py:439: UserWarning: X does not have valid feature names, but DecisionTreeClassifier was fitted with feature names\n",
            "  warnings.warn(\n"
          ]
        },
        {
          "output_type": "stream",
          "name": "stdout",
          "text": [
            "----------------------------------------------------------------------------------------------------\n",
            "----------------------------------------------------------------------------------------------------\n",
            "----------------------------------------------------------------------------------------------------\n",
            "----------------------------------------------------------------------------------------------------\n"
          ]
        },
        {
          "output_type": "stream",
          "name": "stderr",
          "text": [
            "/usr/local/lib/python3.9/dist-packages/sklearn/base.py:439: UserWarning: X does not have valid feature names, but RandomForestClassifier was fitted with feature names\n",
            "  warnings.warn(\n",
            "/usr/local/lib/python3.9/dist-packages/sklearn/base.py:439: UserWarning: X does not have valid feature names, but GradientBoostingClassifier was fitted with feature names\n",
            "  warnings.warn(\n",
            "/usr/local/lib/python3.9/dist-packages/sklearn/base.py:439: UserWarning: X does not have valid feature names, but KNeighborsClassifier was fitted with feature names\n",
            "  warnings.warn(\n"
          ]
        }
      ],
      "source": [
        "compareModel(x_train, x_test, y_train, y_test)"
      ]
    },
    {
      "cell_type": "code",
      "execution_count": 69,
      "metadata": {
        "colab": {
          "base_uri": "https://localhost:8080/"
        },
        "id": "CP5FG4lpN3Ox",
        "outputId": "93da9330-123a-40c1-faa1-7bb6d4aa48f7"
      },
      "outputs": [
        {
          "output_type": "stream",
          "name": "stdout",
          "text": [
            "7/7 [==============================] - 0s 2ms/step\n",
            "0.589041095890411\n",
            "ANN MODEL\n",
            "Confusion_Matrix\n",
            "[[53 42]\n",
            " [48 76]]\n",
            "Classification Report\n",
            "              precision    recall  f1-score   support\n",
            "\n",
            "           0       0.52      0.56      0.54        95\n",
            "           1       0.64      0.61      0.63       124\n",
            "\n",
            "    accuracy                           0.59       219\n",
            "   macro avg       0.58      0.59      0.58       219\n",
            "weighted avg       0.59      0.59      0.59       219\n",
            "\n"
          ]
        }
      ],
      "source": [
        "ypred=classifier.predict(x_test)\n",
        "print(accuracy_score(y_pred,y_test))\n",
        "print(\"ANN MODEL\")\n",
        "print(\"Confusion_Matrix\")\n",
        "print(confusion_matrix(y_test,y_pred))\n",
        "print(\"Classification Report\")\n",
        "print(classification_report(y_test,y_pred))\n"
      ]
    },
    {
      "cell_type": "code",
      "execution_count": 70,
      "metadata": {
        "id": "-yK_geSpPV4V"
      },
      "outputs": [],
      "source": [
        "from sklearn.model_selection import cross_val_score\n"
      ]
    },
    {
      "cell_type": "code",
      "execution_count": 71,
      "metadata": {
        "colab": {
          "base_uri": "https://localhost:8080/"
        },
        "id": "LZNWk2Ah8A4t",
        "outputId": "e027744d-e6ea-411a-eee3-43a213eb4d55"
      },
      "outputs": [
        {
          "output_type": "stream",
          "name": "stdout",
          "text": [
            "----------------------------------------------------------------------------------------------------\n"
          ]
        }
      ],
      "source": [
        "#random forest model is selected\n",
        "rf=RandomForestClassifier()\n",
        "rf.fit(x_train,y_train)\n",
        "yPred=rf.predict(x_test)\n",
        "print('-'*100)"
      ]
    },
    {
      "cell_type": "code",
      "execution_count": 72,
      "metadata": {
        "colab": {
          "base_uri": "https://localhost:8080/"
        },
        "id": "lkGzTa248Hk7",
        "outputId": "c65654d3-97a8-4500-e60f-d1126d36c23d"
      },
      "outputs": [
        {
          "output_type": "execute_result",
          "data": {
            "text/plain": [
              "0.8373639904808138"
            ]
          },
          "metadata": {},
          "execution_count": 72
        }
      ],
      "source": [
        "f1_score(yPred,y_test,average='weighted')"
      ]
    },
    {
      "cell_type": "code",
      "execution_count": 73,
      "metadata": {
        "id": "wCvKtYiv8ObU"
      },
      "outputs": [],
      "source": [
        "cv=cross_val_score(rf,x,y,cv=5)"
      ]
    },
    {
      "cell_type": "code",
      "execution_count": 74,
      "metadata": {
        "colab": {
          "base_uri": "https://localhost:8080/"
        },
        "id": "7gOs7idL8U2m",
        "outputId": "6e135543-3fb5-47f2-da47-5928cb85bf7d"
      },
      "outputs": [
        {
          "output_type": "execute_result",
          "data": {
            "text/plain": [
              "0.7785019325603093"
            ]
          },
          "metadata": {},
          "execution_count": 74
        }
      ],
      "source": [
        "np.mean(cv)"
      ]
    },
    {
      "cell_type": "code",
      "source": [
        "model=decisionTree,randomForest,KNN,Xgboost,(x_train,x_test,y_train,y_test)"
      ],
      "metadata": {
        "id": "qYjRzMMapB7d"
      },
      "execution_count": 76,
      "outputs": []
    },
    {
      "cell_type": "code",
      "source": [
        "pickle.dump(model,open('rdf.pkl','wb'))"
      ],
      "metadata": {
        "id": "Fkmq5Hr8KtWU"
      },
      "execution_count": 77,
      "outputs": []
    },
    {
      "cell_type": "code",
      "source": [
        "pickle.dump(model,open('scale1.pkl','wb'))"
      ],
      "metadata": {
        "id": "-l0IpOPI7789"
      },
      "execution_count": 78,
      "outputs": []
    }
  ],
  "metadata": {
    "colab": {
      "provenance": [],
      "collapsed_sections": [
        "V0AqVexvCjSP",
        "WZFLq1N-DdxQ",
        "Ovi1JWvmVnRM",
        "uB_9FzSsYxyr"
      ]
    },
    "kernelspec": {
      "display_name": "Python 3",
      "name": "python3"
    },
    "language_info": {
      "name": "python"
    }
  },
  "nbformat": 4,
  "nbformat_minor": 0
}